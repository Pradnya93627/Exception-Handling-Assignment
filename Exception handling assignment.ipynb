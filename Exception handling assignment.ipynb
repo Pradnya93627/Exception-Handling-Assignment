{
 "cells": [
  {
   "cell_type": "code",
   "execution_count": 1,
   "id": "443ee7da",
   "metadata": {},
   "outputs": [
    {
     "name": "stdout",
     "output_type": "stream",
     "text": [
      "division by zero\n"
     ]
    }
   ],
   "source": [
    "#que1\n",
    "\n",
    "try:\n",
    "    5/0\n",
    "except Exception as e:\n",
    "    print(e)"
   ]
  },
  {
   "cell_type": "code",
   "execution_count": 2,
   "id": "fa108559",
   "metadata": {},
   "outputs": [
    {
     "name": "stdout",
     "output_type": "stream",
     "text": [
      "Americans Play baseball\n",
      "Americans Play cricket\n",
      "Americans Watch baseball\n",
      "Americans Watch cricket\n",
      "Indians Play baseball\n",
      "Indians Play cricket\n",
      "Indians Watch baseball\n",
      "Indians Watch cricket\n"
     ]
    }
   ],
   "source": [
    "#que2\n",
    "\n",
    "S=['Americans','Indians']\n",
    "V=['Play','Watch']\n",
    "O=['baseball','cricket']\n",
    "\n",
    "for i in range(len(S)):\n",
    "    for v in range(len(V)):\n",
    "        for o in range(len(O)):\n",
    "            print(S[i]+' '+V[v]+' '+O[o])"
   ]
  },
  {
   "cell_type": "code",
   "execution_count": null,
   "id": "66e0c7c0",
   "metadata": {},
   "outputs": [],
   "source": []
  }
 ],
 "metadata": {
  "kernelspec": {
   "display_name": "Python 3",
   "language": "python",
   "name": "python3"
  },
  "language_info": {
   "codemirror_mode": {
    "name": "ipython",
    "version": 3
   },
   "file_extension": ".py",
   "mimetype": "text/x-python",
   "name": "python",
   "nbconvert_exporter": "python",
   "pygments_lexer": "ipython3",
   "version": "3.8.8"
  }
 },
 "nbformat": 4,
 "nbformat_minor": 5
}
